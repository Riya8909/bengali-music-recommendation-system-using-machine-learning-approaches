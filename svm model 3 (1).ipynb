{
 "cells": [
  {
   "cell_type": "code",
   "execution_count": 3,
   "id": "9f2feeda",
   "metadata": {},
   "outputs": [
    {
     "name": "stdout",
     "output_type": "stream",
     "text": [
      "Enter a song:-Jao Jao Ure\n",
      "Songs similar to 'Jao Jao Ure': ['Jodi Chuey Jao', 'Hariye Jao Jodi Bhire', 'Ure Jak', 'Hawai jahaje ure', 'Sabar Hridaye Rabindranath']\n",
      "Accuracy: 0.43\n",
      "Precision: 0.39\n"
     ]
    },
    {
     "name": "stderr",
     "output_type": "stream",
     "text": [
      "C:\\ProgramData\\Anaconda3\\lib\\site-packages\\sklearn\\metrics\\_classification.py:1318: UndefinedMetricWarning: Precision is ill-defined and being set to 0.0 in labels with no predicted samples. Use `zero_division` parameter to control this behavior.\n",
      "  _warn_prf(average, modifier, msg_start, len(result))\n"
     ]
    }
   ],
   "source": [
    "import pandas as pd\n",
    "from sklearn.svm import SVC\n",
    "from sklearn.metrics.pairwise import cosine_similarity\n",
    "from sklearn.metrics import accuracy_score, precision_score\n",
    "from sklearn.model_selection import train_test_split\n",
    "from sklearn.feature_extraction.text import TfidfVectorizer\n",
    "import re\n",
    "\n",
    "# Load the dataset\n",
    "data = pd.read_csv('my dataset 6.csv')\n",
    "# Preprocess the data\n",
    "data['genre'] = data['genre'].apply(lambda x: re.sub(r'[^\\w\\s]', '', x))  # Remove punctuation\n",
    "data['genre'] = data['genre'].str.lower()  # Convert genre to lowercase\n",
    "# Remove duplicate elements\n",
    "data['genre'] = data['genre'].apply(lambda x: ' '.join(set(x.split())))\n",
    "\n",
    "\n",
    "# Extract the genre and title of each song\n",
    "genres = data['genre'].values\n",
    "titles = data['song name'].values\n",
    "\n",
    "# Split the dataset into train and test sets\n",
    "X_train, X_test, y_train, y_test = train_test_split(titles, genres, test_size=0.2, random_state=42)\n",
    "\n",
    "\n",
    "# Apply TF-IDF vectorization on the title column\n",
    "from sklearn.feature_extraction.text import TfidfVectorizer\n",
    "tfidf_vectorizer = TfidfVectorizer()\n",
    "tfidf_matrix = tfidf_vectorizer.fit_transform(titles)\n",
    "X_train_tfidf = tfidf_vectorizer.fit_transform(X_train)\n",
    "X_test_tfidf = tfidf_vectorizer.transform(X_test)\n",
    "\n",
    "\n",
    "# Train the SVM model\n",
    "svm_model = SVC(kernel='linear', C=1.0)\n",
    "\n",
    "svm_model.fit(X_train_tfidf, y_train)\n",
    "\n",
    "# Define a function to recommend similar songs based on the genre of the input song\n",
    "def recommend_songs(input_song, n=5):\n",
    "    # Extract the genre of the input song\n",
    "    input_song_data = data[data['song name'] == input_song]\n",
    "    input_genre = input_song_data['genre'].values[0]\n",
    "\n",
    "    # Calculate the cosine similarity between the input song and all the other songs in the dataset\n",
    "    input_index = titles.tolist().index(input_song)\n",
    "    similarity_scores = cosine_similarity(tfidf_matrix[input_index], tfidf_matrix)\n",
    "    #print(similarity_scores)\n",
    "\n",
    "    # Sort the songs by similarity score and genre\n",
    "    sorted_indices = []\n",
    "    for i in range(len(similarity_scores[0])):\n",
    "        if genres[i] == input_genre:\n",
    "            sorted_indices.append(i)\n",
    "    sorted_indices = sorted(sorted_indices, key=lambda i: similarity_scores[0][i], reverse=True)\n",
    "\n",
    "    # Get the top-n songs that are most similar to the input song\n",
    "    recommended_songs = []\n",
    "    for i in sorted_indices:\n",
    "        if titles[i] != input_song:\n",
    "            recommended_songs.append(titles[i])\n",
    "        if len(recommended_songs) == n:\n",
    "            break\n",
    "\n",
    "    return recommended_songs\n",
    "\n",
    "# Example usage\n",
    "input_song = input(\"Enter a song:-\")\n",
    "recommended_songs = recommend_songs(input_song, n=5)\n",
    "print(f\"Songs similar to '{input_song}': {recommended_songs}\")\n",
    "\n",
    "# Predict the genres of the test set\n",
    "y_pred = svm_model.predict(X_test_tfidf)\n",
    "\n",
    "# Calculate the accuracy and precision of the model\n",
    "accuracy = accuracy_score(y_test, y_pred)\n",
    "precision = precision_score(y_test, y_pred, average='weighted')\n",
    "\n",
    "print(f\"Accuracy: {accuracy:.2f}\")\n",
    "print(f\"Precision: {precision:.2f}\")\n",
    "\n"
   ]
  },
  {
   "cell_type": "code",
   "execution_count": null,
   "id": "96efe305",
   "metadata": {},
   "outputs": [],
   "source": []
  }
 ],
 "metadata": {
  "kernelspec": {
   "display_name": "Python 3 (ipykernel)",
   "language": "python",
   "name": "python3"
  },
  "language_info": {
   "codemirror_mode": {
    "name": "ipython",
    "version": 3
   },
   "file_extension": ".py",
   "mimetype": "text/x-python",
   "name": "python",
   "nbconvert_exporter": "python",
   "pygments_lexer": "ipython3",
   "version": "3.9.12"
  }
 },
 "nbformat": 4,
 "nbformat_minor": 5
}
