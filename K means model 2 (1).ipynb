{
 "cells": [
  {
   "cell_type": "code",
   "execution_count": 4,
   "id": "059f25af",
   "metadata": {},
   "outputs": [
    {
     "name": "stderr",
     "output_type": "stream",
     "text": [
      "C:\\Users\\91910\\AppData\\Local\\Temp\\ipykernel_11892\\109242743.py:25: SettingWithCopyWarning: \n",
      "A value is trying to be set on a copy of a slice from a DataFrame.\n",
      "Try using .loc[row_indexer,col_indexer] = value instead\n",
      "\n",
      "See the caveats in the documentation: https://pandas.pydata.org/pandas-docs/stable/user_guide/indexing.html#returning-a-view-versus-a-copy\n",
      "  song_genre_df['genre'] = le.fit_transform(song_genre_df['genre'])\n"
     ]
    },
    {
     "name": "stdout",
     "output_type": "stream",
     "text": [
      "Enter a song name: Sunno a buke\n",
      "Top 5 recommended songs based on the genre of Sunno a buke :\n",
      "['Chok chok gelo', 'Shiuli Phuler Mala Dole  ', 'Ebar Nabin Mantre Hobe  ', 'Aslo Jakhon Phuler Fagun ', 'Palas Phuler']\n",
      "Accuracy: 0.69\n",
      "Precision: 0.65\n"
     ]
    },
    {
     "name": "stderr",
     "output_type": "stream",
     "text": [
      "C:\\ProgramData\\Anaconda3\\lib\\site-packages\\sklearn\\base.py:450: UserWarning: X does not have valid feature names, but KMeans was fitted with feature names\n",
      "  warnings.warn(\n",
      "C:\\ProgramData\\Anaconda3\\lib\\site-packages\\sklearn\\base.py:450: UserWarning: X does not have valid feature names, but KMeans was fitted with feature names\n",
      "  warnings.warn(\n",
      "C:\\ProgramData\\Anaconda3\\lib\\site-packages\\sklearn\\metrics\\_classification.py:1318: UndefinedMetricWarning: Precision is ill-defined and being set to 0.0 in labels with no predicted samples. Use `zero_division` parameter to control this behavior.\n",
      "  _warn_prf(average, modifier, msg_start, len(result))\n"
     ]
    }
   ],
   "source": [
    "import pandas as pd\n",
    "from sklearn.cluster import KMeans\n",
    "from sklearn.preprocessing import LabelEncoder\n",
    "from sklearn.metrics.pairwise import euclidean_distances\n",
    "from sklearn.metrics import accuracy_score, precision_score\n",
    "from sklearn.preprocessing import StandardScaler\n",
    "from sklearn.model_selection import train_test_split\n",
    "import re\n",
    "\n",
    "\n",
    "# Load the dataset\n",
    "data = pd.read_csv('my dataset 6.csv')\n",
    "#rremove punctuation\n",
    "data['genre'] = data['genre'].apply(lambda x: re.sub(r'[^\\w\\s]', '', x)) \n",
    "# Split the dataset into a training set and a test set\n",
    "train_data = data.sample(frac=0.8, random_state=42)\n",
    "test_data = data.drop(train_data.index)\n",
    "\n",
    "# Create a dataframe with song names and genres only\n",
    "song_genre_df = data[['song name', 'genre']]\n",
    "\n",
    "# Encode the genre column\n",
    "le = LabelEncoder()\n",
    "le.fit(data['genre'])\n",
    "song_genre_df['genre'] = le.fit_transform(song_genre_df['genre'])\n",
    "\n",
    "# Train the K-means model with k=3\n",
    "kmeans = KMeans(n_clusters=3)\n",
    "kmeans.fit(song_genre_df[['genre']])\n",
    "\n",
    "# Take the input song name from the user\n",
    "song_name = input(\"Enter a song name: \")\n",
    "\n",
    "if song_name not in song_genre_df['song name'].values:\n",
    "    print(\"Song not found in the database.\")\n",
    "else:\n",
    "    # Get the genre of the input song\n",
    "    song_genre = song_genre_df[song_genre_df['song name'] == song_name]['genre'].iloc[0]\n",
    "\n",
    "    # Get the cluster label of the input song\n",
    "    song_cluster_label = kmeans.predict([[song_genre]])[0]\n",
    "\n",
    "    # Compute the distances between the input song and all songs in the same cluster\n",
    "    song_distances = euclidean_distances(song_genre_df[kmeans.labels_ == song_cluster_label]['genre'].values.reshape(-1, 1), [[song_genre]])\n",
    "\n",
    "    # Get the indices of the top 5 most similar songs\n",
    "    top5_indices = song_distances.argsort(axis=0)[:5].flatten()\n",
    "\n",
    "    # Get the recommended songs\n",
    "    recommended_songs = song_genre_df[kmeans.labels_ == song_cluster_label]['song name'].iloc[top5_indices]\n",
    "\n",
    "    # Print the recommended songs\n",
    "    print(\"Top 5 recommended songs based on the genre of\", song_name, \":\")\n",
    "    print(recommended_songs.tolist())\n",
    "    \n",
    "\n",
    "# Split the data into train and test sets\n",
    "train_indices, test_indices = train_test_split(data.index, test_size=0.2, random_state=42)\n",
    "\n",
    "# Fit a k-means clustering model to the training data\n",
    "kmeans = KMeans(n_clusters=5, random_state=42)\n",
    "#kmeans.fit(data.iloc[train_indices]['genre'])\n",
    "kmeans.fit(song_genre_df[['genre']])\n",
    "\n",
    "# Get the labels for the test data\n",
    "#y_test = data.iloc[test_indices]['genre'].values\n",
    "y_test = le.transform(data.iloc[test_indices]['genre'].values)\n",
    "y_pred = kmeans.predict(y_test.reshape(-1, 1))\n",
    "#y_pred = kmeans.predict(data.iloc[test_indices]['genre'].values.reshape(-1, 1))\n",
    "\n",
    "# Compute the accuracy and precision of the model\n",
    "accuracy = accuracy_score(y_test, y_pred)\n",
    "precision = precision_score(y_test, y_pred, average='weighted')\n",
    "\n",
    "# Print the accuracy and precision\n",
    "print(\"Accuracy: {:.2f}\".format(accuracy))\n",
    "print(\"Precision: {:.2f}\".format(precision))\n",
    "\n"
   ]
  },
  {
   "cell_type": "markdown",
   "id": "a01ffd48",
   "metadata": {},
   "source": []
  },
  {
   "cell_type": "code",
   "execution_count": null,
   "id": "d9452eaa",
   "metadata": {},
   "outputs": [],
   "source": []
  }
 ],
 "metadata": {
  "kernelspec": {
   "display_name": "Python 3 (ipykernel)",
   "language": "python",
   "name": "python3"
  },
  "language_info": {
   "codemirror_mode": {
    "name": "ipython",
    "version": 3
   },
   "file_extension": ".py",
   "mimetype": "text/x-python",
   "name": "python",
   "nbconvert_exporter": "python",
   "pygments_lexer": "ipython3",
   "version": "3.9.12"
  }
 },
 "nbformat": 4,
 "nbformat_minor": 5
}
